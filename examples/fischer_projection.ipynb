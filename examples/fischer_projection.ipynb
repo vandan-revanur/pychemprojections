{
 "cells": [
  {
   "cell_type": "code",
   "execution_count": 1,
   "id": "d5604003",
   "metadata": {},
   "outputs": [],
   "source": [
    "from pychemprojections.fischer.visualization import plot_fischer_projection\n",
    "\n",
    "\n",
    "input_smiles_for_fischer = \"C1CC1[C@](Br)(I)(Cl)\"\n"
   ]
  },
  {
   "cell_type": "code",
   "execution_count": 2,
   "id": "bf11521b",
   "metadata": {},
   "outputs": [
    {
     "name": "stderr",
     "output_type": "stream",
     "text": [
      "2023-02-18 20:08:27,415 pychemprojections.fischer.visualization INFO     Preparing SMILES for drawing\n",
      "2023-02-18 20:08:27,418 pychemprojections.fischer.visualization INFO     num of chiral centers 1\n",
      "2023-02-18 20:08:27,419 pychemprojections.fischer.visualization INFO     Extracting the SMILES of the substituents\n",
      "2023-02-18 20:08:27,419 pychemprojections.fischer.singlechiral INFO     configuration='R'\n",
      "2023-02-18 20:08:27,420 pychemprojections.fischer.visualization INFO     Converting the SMILES substituents into condensed form\n",
      "2023-02-18 20:08:27,421 pychemprojections.fischer.visualization INFO     Converting the condensed notation into a format suitable for plotting on fischer diagram\n",
      "2023-02-18 20:08:27,499 pychemprojections.fischer.visualization INFO     Plotting the fischer projection diagram\n"
     ]
    },
    {
     "data": {
      "image/png": "[encoded data removed]",
      "text/plain": [
       "<Figure size 333.333x333.333 with 3 Axes>"
      ]
     },
     "metadata": {},
     "output_type": "display_data"
    }
   ],
   "source": [
    "plot_fischer_projection(input_smiles_for_fischer)\n"
   ]
  },
  {
   "cell_type": "code",
   "execution_count": null,
   "id": "4cf596c4",
   "metadata": {},
   "outputs": [],
   "source": []
  }
 ],
 "metadata": {
  "kernelspec": {
   "display_name": "temp_test_pychemprojec",
   "language": "python",
   "name": "temp_test_pychemprojec"
  },
  "language_info": {
   "codemirror_mode": {
    "name": "ipython",
    "version": 3
   },
   "file_extension": ".py",
   "mimetype": "text/x-python",
   "name": "python",
   "nbconvert_exporter": "python",
   "pygments_lexer": "ipython3",
   "version": "3.10.10"
  }
 },
 "nbformat": 4,
 "nbformat_minor": 5
}
