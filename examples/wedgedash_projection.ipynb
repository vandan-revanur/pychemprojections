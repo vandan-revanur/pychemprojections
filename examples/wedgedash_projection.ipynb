{
 "cells": [
  {
   "cell_type": "code",
   "execution_count": 1,
   "id": "28c6df50",
   "metadata": {},
   "outputs": [],
   "source": [
    "from pychemprojections.wedgedash.visualization import plot_wedgedash_projection\n",
    "from IPython.display import SVG, display"
   ]
  },
  {
   "cell_type": "code",
   "execution_count": 2,
   "id": "03f9ff4b",
   "metadata": {},
   "outputs": [],
   "source": [
    "input_smiles = \"C[C@H](Cl)[C@@](F)(Br)I\""
   ]
  },
  {
   "cell_type": "code",
   "execution_count": 3,
   "id": "c3527672",
   "metadata": {},
   "outputs": [],
   "source": [
    "img = plot_wedgedash_projection(input_smiles)"
   ]
  },
  {
   "cell_type": "code",
   "execution_count": 4,
   "id": "238e3328",
   "metadata": {},
   "outputs": [
    {
     "data": {
      "image/svg+xml": [
       "<svg xmlns=\"http://www.w3.org/2000/svg\" xmlns:rdkit=\"http://www.rdkit.org/xml\" xmlns:xlink=\"http://www.w3.org/1999/xlink\" version=\"1.1\" baseProfile=\"full\" xml:space=\"preserve\" width=\"500px\" height=\"500px\" viewBox=\"0 0 500 500\">\n",
       "<!-- END OF HEADER -->\n",
       "<rect style=\"opacity:1.0;fill:#FFFFFF;stroke:none\" width=\"500.0\" height=\"500.0\" x=\"0.0\" y=\"0.0\"> </rect>\n",
       "<path class=\"bond-0 atom-0 atom-1\" d=\"M 94.0,259.5 L 209.8,204.8\" style=\"fill:none;fill-rule:evenodd;stroke:#000000;stroke-width:2.0px;stroke-linecap:butt;stroke-linejoin:miter;stroke-opacity:1\"/>\n",
       "<path class=\"bond-1 atom-1 atom-2\" d=\"M 209.8,204.8 L 209.1,164.9 L 218.5,165.9 Z\" style=\"fill:#000000;fill-rule:evenodd;fill-opacity:1;stroke:#000000;stroke-width:0.5px;stroke-linecap:butt;stroke-linejoin:miter;stroke-opacity:1;\"/>\n",
       "<path class=\"bond-1 atom-1 atom-2\" d=\"M 209.1,164.9 L 227.2,127.0 L 208.5,125.0 Z\" style=\"fill:#00CC00;fill-rule:evenodd;fill-opacity:1;stroke:#00CC00;stroke-width:0.5px;stroke-linecap:butt;stroke-linejoin:miter;stroke-opacity:1;\"/>\n",
       "<path class=\"bond-1 atom-1 atom-2\" d=\"M 209.1,164.9 L 218.5,165.9 L 227.2,127.0 Z\" style=\"fill:#00CC00;fill-rule:evenodd;fill-opacity:1;stroke:#00CC00;stroke-width:0.5px;stroke-linecap:butt;stroke-linejoin:miter;stroke-opacity:1;\"/>\n",
       "<path class=\"bond-2 atom-1 atom-3\" d=\"M 209.8,204.8 L 302.2,296.2\" style=\"fill:none;fill-rule:evenodd;stroke:#000000;stroke-width:2.0px;stroke-linecap:butt;stroke-linejoin:miter;stroke-opacity:1\"/>\n",
       "<path class=\"bond-3 atom-3 atom-4\" d=\"M 302.2,296.2 L 302.1,319.7 L 292.9,317.7 Z\" style=\"fill:#000000;fill-rule:evenodd;fill-opacity:1;stroke:#000000;stroke-width:0.5px;stroke-linecap:butt;stroke-linejoin:miter;stroke-opacity:1;\"/>\n",
       "<path class=\"bond-3 atom-3 atom-4\" d=\"M 302.1,319.7 L 283.6,339.2 L 302.0,343.1 Z\" style=\"fill:#33CCCC;fill-rule:evenodd;fill-opacity:1;stroke:#33CCCC;stroke-width:0.5px;stroke-linecap:butt;stroke-linejoin:miter;stroke-opacity:1;\"/>\n",
       "<path class=\"bond-3 atom-3 atom-4\" d=\"M 302.1,319.7 L 292.9,317.7 L 283.6,339.2 Z\" style=\"fill:#33CCCC;fill-rule:evenodd;fill-opacity:1;stroke:#33CCCC;stroke-width:0.5px;stroke-linecap:butt;stroke-linejoin:miter;stroke-opacity:1;\"/>\n",
       "<path class=\"bond-4 atom-3 atom-5\" d=\"M 305.2,294.4 L 305.4,294.8\" style=\"fill:none;fill-rule:evenodd;stroke:#000000;stroke-width:1.0px;stroke-linecap:butt;stroke-linejoin:miter;stroke-opacity:1\"/>\n",
       "<path class=\"bond-4 atom-3 atom-5\" d=\"M 308.2,292.5 L 308.6,293.3\" style=\"fill:none;fill-rule:evenodd;stroke:#000000;stroke-width:1.0px;stroke-linecap:butt;stroke-linejoin:miter;stroke-opacity:1\"/>\n",
       "<path class=\"bond-4 atom-3 atom-5\" d=\"M 311.2,290.6 L 311.8,291.8\" style=\"fill:none;fill-rule:evenodd;stroke:#000000;stroke-width:1.0px;stroke-linecap:butt;stroke-linejoin:miter;stroke-opacity:1\"/>\n",
       "<path class=\"bond-4 atom-3 atom-5\" d=\"M 314.2,288.7 L 315.1,290.3\" style=\"fill:none;fill-rule:evenodd;stroke:#000000;stroke-width:1.0px;stroke-linecap:butt;stroke-linejoin:miter;stroke-opacity:1\"/>\n",
       "<path class=\"bond-4 atom-3 atom-5\" d=\"M 317.2,286.8 L 318.3,288.9\" style=\"fill:none;fill-rule:evenodd;stroke:#000000;stroke-width:1.0px;stroke-linecap:butt;stroke-linejoin:miter;stroke-opacity:1\"/>\n",
       "<path class=\"bond-4 atom-3 atom-5\" d=\"M 320.2,285.0 L 321.5,287.4\" style=\"fill:none;fill-rule:evenodd;stroke:#000000;stroke-width:1.0px;stroke-linecap:butt;stroke-linejoin:miter;stroke-opacity:1\"/>\n",
       "<path class=\"bond-4 atom-3 atom-5\" d=\"M 323.2,283.1 L 324.7,285.9\" style=\"fill:none;fill-rule:evenodd;stroke:#000000;stroke-width:1.0px;stroke-linecap:butt;stroke-linejoin:miter;stroke-opacity:1\"/>\n",
       "<path class=\"bond-4 atom-3 atom-5\" d=\"M 326.2,281.2 L 327.9,284.4\" style=\"fill:none;fill-rule:evenodd;stroke:#000000;stroke-width:1.0px;stroke-linecap:butt;stroke-linejoin:miter;stroke-opacity:1\"/>\n",
       "<path class=\"bond-4 atom-3 atom-5\" d=\"M 329.2,279.3 L 331.1,283.0\" style=\"fill:none;fill-rule:evenodd;stroke:#000000;stroke-width:1.0px;stroke-linecap:butt;stroke-linejoin:miter;stroke-opacity:1\"/>\n",
       "<path class=\"bond-4 atom-3 atom-5\" d=\"M 332.2,277.4 L 334.3,281.5\" style=\"fill:none;fill-rule:evenodd;stroke:#000000;stroke-width:1.0px;stroke-linecap:butt;stroke-linejoin:miter;stroke-opacity:1\"/>\n",
       "<path class=\"bond-4 atom-3 atom-5\" d=\"M 335.1,275.6 L 337.5,280.0\" style=\"fill:none;fill-rule:evenodd;stroke:#000000;stroke-width:1.0px;stroke-linecap:butt;stroke-linejoin:miter;stroke-opacity:1\"/>\n",
       "<path class=\"bond-4 atom-3 atom-5\" d=\"M 338.1,273.7 L 340.8,278.5\" style=\"fill:none;fill-rule:evenodd;stroke:#000000;stroke-width:1.0px;stroke-linecap:butt;stroke-linejoin:miter;stroke-opacity:1\"/>\n",
       "<path class=\"bond-4 atom-3 atom-5\" d=\"M 341.1,271.8 L 344.0,277.1\" style=\"fill:none;fill-rule:evenodd;stroke:#000000;stroke-width:1.0px;stroke-linecap:butt;stroke-linejoin:miter;stroke-opacity:1\"/>\n",
       "<path class=\"bond-4 atom-3 atom-5\" d=\"M 344.1,269.9 L 347.2,275.6\" style=\"fill:none;fill-rule:evenodd;stroke:#000000;stroke-width:1.0px;stroke-linecap:butt;stroke-linejoin:miter;stroke-opacity:1\"/>\n",
       "<path class=\"bond-4 atom-3 atom-5\" d=\"M 347.1,268.0 L 350.4,274.1\" style=\"fill:none;fill-rule:evenodd;stroke:#000000;stroke-width:1.0px;stroke-linecap:butt;stroke-linejoin:miter;stroke-opacity:1\"/>\n",
       "<path class=\"bond-4 atom-3 atom-5\" d=\"M 350.1,266.2 L 353.6,272.6\" style=\"fill:none;fill-rule:evenodd;stroke:#000000;stroke-width:1.0px;stroke-linecap:butt;stroke-linejoin:miter;stroke-opacity:1\"/>\n",
       "<path class=\"bond-4 atom-3 atom-5\" d=\"M 353.1,264.3 L 356.8,271.1\" style=\"fill:none;fill-rule:evenodd;stroke:#000000;stroke-width:1.0px;stroke-linecap:butt;stroke-linejoin:miter;stroke-opacity:1\"/>\n",
       "<path class=\"bond-4 atom-3 atom-5\" d=\"M 356.1,262.4 L 360.0,269.7\" style=\"fill:none;fill-rule:evenodd;stroke:#000000;stroke-width:1.0px;stroke-linecap:butt;stroke-linejoin:miter;stroke-opacity:1\"/>\n",
       "<path class=\"bond-4 atom-3 atom-5\" d=\"M 359.1,260.5 L 363.3,268.2\" style=\"fill:none;fill-rule:evenodd;stroke:#000000;stroke-width:1.0px;stroke-linecap:butt;stroke-linejoin:miter;stroke-opacity:1\"/>\n",
       "<path class=\"bond-4 atom-3 atom-5\" d=\"M 362.1,258.6 L 366.5,266.7\" style=\"fill:none;fill-rule:evenodd;stroke:#000000;stroke-width:1.0px;stroke-linecap:butt;stroke-linejoin:miter;stroke-opacity:1\"/>\n",
       "<path class=\"bond-4 atom-3 atom-5\" d=\"M 365.1,256.8 L 369.7,265.2\" style=\"fill:none;fill-rule:evenodd;stroke:#7F4C19;stroke-width:1.0px;stroke-linecap:butt;stroke-linejoin:miter;stroke-opacity:1\"/>\n",
       "<path class=\"bond-4 atom-3 atom-5\" d=\"M 368.1,254.9 L 372.9,263.8\" style=\"fill:none;fill-rule:evenodd;stroke:#7F4C19;stroke-width:1.0px;stroke-linecap:butt;stroke-linejoin:miter;stroke-opacity:1\"/>\n",
       "<path class=\"bond-4 atom-3 atom-5\" d=\"M 371.1,253.0 L 376.1,262.3\" style=\"fill:none;fill-rule:evenodd;stroke:#7F4C19;stroke-width:1.0px;stroke-linecap:butt;stroke-linejoin:miter;stroke-opacity:1\"/>\n",
       "<path class=\"bond-4 atom-3 atom-5\" d=\"M 374.1,251.1 L 379.3,260.8\" style=\"fill:none;fill-rule:evenodd;stroke:#7F4C19;stroke-width:1.0px;stroke-linecap:butt;stroke-linejoin:miter;stroke-opacity:1\"/>\n",
       "<path class=\"bond-4 atom-3 atom-5\" d=\"M 377.1,249.3 L 382.5,259.3\" style=\"fill:none;fill-rule:evenodd;stroke:#7F4C19;stroke-width:1.0px;stroke-linecap:butt;stroke-linejoin:miter;stroke-opacity:1\"/>\n",
       "<path class=\"bond-4 atom-3 atom-5\" d=\"M 380.1,247.4 L 385.8,257.9\" style=\"fill:none;fill-rule:evenodd;stroke:#7F4C19;stroke-width:1.0px;stroke-linecap:butt;stroke-linejoin:miter;stroke-opacity:1\"/>\n",
       "<path class=\"bond-4 atom-3 atom-5\" d=\"M 383.1,245.5 L 389.0,256.4\" style=\"fill:none;fill-rule:evenodd;stroke:#7F4C19;stroke-width:1.0px;stroke-linecap:butt;stroke-linejoin:miter;stroke-opacity:1\"/>\n",
       "<path class=\"bond-4 atom-3 atom-5\" d=\"M 386.1,243.6 L 392.2,254.9\" style=\"fill:none;fill-rule:evenodd;stroke:#7F4C19;stroke-width:1.0px;stroke-linecap:butt;stroke-linejoin:miter;stroke-opacity:1\"/>\n",
       "<path class=\"bond-4 atom-3 atom-5\" d=\"M 389.1,241.7 L 395.4,253.4\" style=\"fill:none;fill-rule:evenodd;stroke:#7F4C19;stroke-width:1.0px;stroke-linecap:butt;stroke-linejoin:miter;stroke-opacity:1\"/>\n",
       "<path class=\"bond-4 atom-3 atom-5\" d=\"M 392.1,239.9 L 398.6,252.0\" style=\"fill:none;fill-rule:evenodd;stroke:#7F4C19;stroke-width:1.0px;stroke-linecap:butt;stroke-linejoin:miter;stroke-opacity:1\"/>\n",
       "<path class=\"bond-4 atom-3 atom-5\" d=\"M 395.1,238.0 L 401.8,250.5\" style=\"fill:none;fill-rule:evenodd;stroke:#7F4C19;stroke-width:1.0px;stroke-linecap:butt;stroke-linejoin:miter;stroke-opacity:1\"/>\n",
       "<path class=\"bond-4 atom-3 atom-5\" d=\"M 398.1,236.1 L 405.0,249.0\" style=\"fill:none;fill-rule:evenodd;stroke:#7F4C19;stroke-width:1.0px;stroke-linecap:butt;stroke-linejoin:miter;stroke-opacity:1\"/>\n",
       "<path class=\"bond-4 atom-3 atom-5\" d=\"M 401.1,234.2 L 408.3,247.5\" style=\"fill:none;fill-rule:evenodd;stroke:#7F4C19;stroke-width:1.0px;stroke-linecap:butt;stroke-linejoin:miter;stroke-opacity:1\"/>\n",
       "<path class=\"bond-4 atom-3 atom-5\" d=\"M 404.1,232.3 L 411.5,246.1\" style=\"fill:none;fill-rule:evenodd;stroke:#7F4C19;stroke-width:1.0px;stroke-linecap:butt;stroke-linejoin:miter;stroke-opacity:1\"/>\n",
       "<path class=\"bond-4 atom-3 atom-5\" d=\"M 407.0,230.5 L 414.7,244.6\" style=\"fill:none;fill-rule:evenodd;stroke:#7F4C19;stroke-width:1.0px;stroke-linecap:butt;stroke-linejoin:miter;stroke-opacity:1\"/>\n",
       "<path class=\"bond-4 atom-3 atom-5\" d=\"M 410.0,228.6 L 417.9,243.1\" style=\"fill:none;fill-rule:evenodd;stroke:#7F4C19;stroke-width:1.0px;stroke-linecap:butt;stroke-linejoin:miter;stroke-opacity:1\"/>\n",
       "<path class=\"bond-4 atom-3 atom-5\" d=\"M 413.0,226.7 L 421.1,241.6\" style=\"fill:none;fill-rule:evenodd;stroke:#7F4C19;stroke-width:1.0px;stroke-linecap:butt;stroke-linejoin:miter;stroke-opacity:1\"/>\n",
       "<path class=\"bond-4 atom-3 atom-5\" d=\"M 416.0,224.8 L 424.3,240.2\" style=\"fill:none;fill-rule:evenodd;stroke:#7F4C19;stroke-width:1.0px;stroke-linecap:butt;stroke-linejoin:miter;stroke-opacity:1\"/>\n",
       "<path class=\"bond-4 atom-3 atom-5\" d=\"M 419.0,222.9 L 427.5,238.7\" style=\"fill:none;fill-rule:evenodd;stroke:#7F4C19;stroke-width:1.0px;stroke-linecap:butt;stroke-linejoin:miter;stroke-opacity:1\"/>\n",
       "<path class=\"bond-4 atom-3 atom-5\" d=\"M 422.0,221.1 L 430.8,237.2\" style=\"fill:none;fill-rule:evenodd;stroke:#7F4C19;stroke-width:1.0px;stroke-linecap:butt;stroke-linejoin:miter;stroke-opacity:1\"/>\n",
       "<path class=\"bond-4 atom-3 atom-5\" d=\"M 425.0,219.2 L 434.0,235.7\" style=\"fill:none;fill-rule:evenodd;stroke:#7F4C19;stroke-width:1.0px;stroke-linecap:butt;stroke-linejoin:miter;stroke-opacity:1\"/>\n",
       "<path class=\"bond-5 atom-3 atom-6\" d=\"M 302.2,296.2 L 298.4,338.3\" style=\"fill:none;fill-rule:evenodd;stroke:#000000;stroke-width:2.0px;stroke-linecap:butt;stroke-linejoin:miter;stroke-opacity:1\"/>\n",
       "<path class=\"bond-5 atom-3 atom-6\" d=\"M 298.4,338.3 L 294.7,380.4\" style=\"fill:none;fill-rule:evenodd;stroke:#A01EEF;stroke-width:2.0px;stroke-linecap:butt;stroke-linejoin:miter;stroke-opacity:1\"/>\n",
       "<path class=\"bond-6 atom-0 atom-7\" d=\"M 94.0,259.5 L 54.1,223.3\" style=\"fill:none;fill-rule:evenodd;stroke:#000000;stroke-width:2.0px;stroke-linecap:butt;stroke-linejoin:miter;stroke-opacity:1\"/>\n",
       "<path class=\"bond-7 atom-0 atom-8\" d=\"M 94.0,259.5 L 99.1,329.2\" style=\"fill:none;fill-rule:evenodd;stroke:#000000;stroke-width:2.0px;stroke-linecap:butt;stroke-linejoin:miter;stroke-opacity:1\"/>\n",
       "<path class=\"bond-8 atom-0 atom-9\" d=\"M 94.0,259.5 L 66.6,265.8\" style=\"fill:none;fill-rule:evenodd;stroke:#000000;stroke-width:2.0px;stroke-linecap:butt;stroke-linejoin:miter;stroke-opacity:1\"/>\n",
       "<path class=\"bond-9 atom-1 atom-10\" d=\"M 209.9,201.0 L 212.4,202.1\" style=\"fill:none;fill-rule:evenodd;stroke:#000000;stroke-width:1.0px;stroke-linecap:butt;stroke-linejoin:miter;stroke-opacity:1\"/>\n",
       "<path class=\"bond-9 atom-1 atom-10\" d=\"M 210.1,197.3 L 215.0,199.4\" style=\"fill:none;fill-rule:evenodd;stroke:#000000;stroke-width:1.0px;stroke-linecap:butt;stroke-linejoin:miter;stroke-opacity:1\"/>\n",
       "<path class=\"bond-9 atom-1 atom-10\" d=\"M 210.2,193.5 L 217.6,196.7\" style=\"fill:none;fill-rule:evenodd;stroke:#000000;stroke-width:1.0px;stroke-linecap:butt;stroke-linejoin:miter;stroke-opacity:1\"/>\n",
       "<path class=\"bond-9 atom-1 atom-10\" d=\"M 210.4,189.7 L 220.3,194.0\" style=\"fill:none;fill-rule:evenodd;stroke:#000000;stroke-width:1.0px;stroke-linecap:butt;stroke-linejoin:miter;stroke-opacity:1\"/>\n",
       "<path class=\"bond-9 atom-1 atom-10\" d=\"M 210.5,186.0 L 222.9,191.3\" style=\"fill:none;fill-rule:evenodd;stroke:#000000;stroke-width:1.0px;stroke-linecap:butt;stroke-linejoin:miter;stroke-opacity:1\"/>\n",
       "<path class=\"bond-9 atom-1 atom-10\" d=\"M 210.7,182.2 L 225.5,188.6\" style=\"fill:none;fill-rule:evenodd;stroke:#000000;stroke-width:1.0px;stroke-linecap:butt;stroke-linejoin:miter;stroke-opacity:1\"/>\n",
       "<path class=\"bond-9 atom-1 atom-10\" d=\"M 210.9,178.4 L 228.1,185.9\" style=\"fill:none;fill-rule:evenodd;stroke:#000000;stroke-width:1.0px;stroke-linecap:butt;stroke-linejoin:miter;stroke-opacity:1\"/>\n",
       "<path class=\"atom-2\" d=\"M 209.4 103.2 Q 209.4 96.1, 212.7 92.5 Q 216.0 88.7, 222.3 88.7 Q 228.1 88.7, 231.3 92.9 L 228.6 95.0 Q 226.3 92.0, 222.3 92.0 Q 218.0 92.0, 215.7 94.9 Q 213.5 97.7, 213.5 103.2 Q 213.5 108.8, 215.8 111.7 Q 218.2 114.5, 222.7 114.5 Q 225.9 114.5, 229.5 112.7 L 230.6 115.7 Q 229.1 116.6, 226.9 117.2 Q 224.7 117.7, 222.2 117.7 Q 216.0 117.7, 212.7 114.0 Q 209.4 110.2, 209.4 103.2 \" fill=\"#00CC00\"/>\n",
       "<path class=\"atom-2\" d=\"M 234.1 87.0 L 237.8 87.0 L 237.8 117.4 L 234.1 117.4 L 234.1 87.0 \" fill=\"#00CC00\"/>\n",
       "<path class=\"atom-4\" d=\"M 279.7 349.4 L 296.5 349.4 L 296.5 352.7 L 283.5 352.7 L 283.5 361.3 L 295.1 361.3 L 295.1 364.6 L 283.5 364.6 L 283.5 377.8 L 279.7 377.8 L 279.7 349.4 \" fill=\"#33CCCC\"/>\n",
       "<path class=\"atom-5\" d=\"M 451.5 217.1 Q 454.2 217.8, 455.6 219.5 Q 457.0 221.1, 457.0 223.6 Q 457.0 227.5, 454.5 229.7 Q 452.0 231.9, 447.3 231.9 L 437.8 231.9 L 437.8 203.6 L 446.1 203.6 Q 451.0 203.6, 453.4 205.6 Q 455.8 207.5, 455.8 211.1 Q 455.8 215.4, 451.5 217.1 M 441.6 206.8 L 441.6 215.7 L 446.1 215.7 Q 448.9 215.7, 450.4 214.6 Q 451.8 213.4, 451.8 211.1 Q 451.8 206.8, 446.1 206.8 L 441.6 206.8 M 447.3 228.7 Q 450.0 228.7, 451.5 227.4 Q 453.0 226.1, 453.0 223.6 Q 453.0 221.3, 451.4 220.1 Q 449.8 218.9, 446.7 218.9 L 441.6 218.9 L 441.6 228.7 L 447.3 228.7 \" fill=\"#7F4C19\"/>\n",
       "<path class=\"atom-5\" d=\"M 463.4 211.4 L 463.9 214.2 Q 466.0 211.0, 469.6 211.0 Q 470.7 211.0, 472.2 211.4 L 471.6 214.8 Q 469.9 214.4, 468.9 214.4 Q 467.2 214.4, 466.1 215.1 Q 465.0 215.7, 464.2 217.3 L 464.2 231.9 L 460.4 231.9 L 460.4 211.4 L 463.4 211.4 \" fill=\"#7F4C19\"/>\n",
       "<path class=\"atom-6\" d=\"M 291.1 384.5 L 294.9 384.5 L 294.9 413.0 L 291.1 413.0 L 291.1 384.5 \" fill=\"#A01EEF\"/>\n",
       "<path class=\"atom-7\" d=\"M 27.8 195.3 L 31.6 195.3 L 31.6 207.3 L 46.1 207.3 L 46.1 195.3 L 50.0 195.3 L 50.0 223.6 L 46.1 223.6 L 46.1 210.5 L 31.6 210.5 L 31.6 223.6 L 27.8 223.6 L 27.8 195.3 \" fill=\"#000000\"/>\n",
       "<path class=\"atom-8\" d=\"M 89.4 333.3 L 93.2 333.3 L 93.2 345.4 L 107.7 345.4 L 107.7 333.3 L 111.6 333.3 L 111.6 361.6 L 107.7 361.6 L 107.7 348.6 L 93.2 348.6 L 93.2 361.6 L 89.4 361.6 L 89.4 333.3 \" fill=\"#000000\"/>\n",
       "<path class=\"atom-9\" d=\"M 40.3 255.2 L 44.1 255.2 L 44.1 267.2 L 58.6 267.2 L 58.6 255.2 L 62.4 255.2 L 62.4 283.5 L 58.6 283.5 L 58.6 270.4 L 44.1 270.4 L 44.1 283.5 L 40.3 283.5 L 40.3 255.2 \" fill=\"#000000\"/>\n",
       "<path class=\"atom-10\" d=\"M 218.1 145.6 L 221.9 145.6 L 221.9 157.6 L 236.4 157.6 L 236.4 145.6 L 240.2 145.6 L 240.2 173.9 L 236.4 173.9 L 236.4 160.8 L 221.9 160.8 L 221.9 173.9 L 218.1 173.9 L 218.1 145.6 \" fill=\"#000000\"/>\n",
       "</svg>"
      ],
      "text/plain": [
       "<IPython.core.display.SVG object>"
      ]
     },
     "metadata": {},
     "output_type": "display_data"
    }
   ],
   "source": [
    "display(SVG(img.replace(\"svg:\", \"\")))"
   ]
  },
  {
   "cell_type": "code",
   "execution_count": null,
   "id": "99f163d7",
   "metadata": {},
   "outputs": [],
   "source": []
  }
 ],
 "metadata": {
  "kernelspec": {
   "display_name": "temp_test_pychemprojec",
   "language": "python",
   "name": "temp_test_pychemprojec"
  },
  "language_info": {
   "codemirror_mode": {
    "name": "ipython",
    "version": 3
   },
   "file_extension": ".py",
   "mimetype": "text/x-python",
   "name": "python",
   "nbconvert_exporter": "python",
   "pygments_lexer": "ipython3",
   "version": "3.10.10"
  }
 },
 "nbformat": 4,
 "nbformat_minor": 5
}
